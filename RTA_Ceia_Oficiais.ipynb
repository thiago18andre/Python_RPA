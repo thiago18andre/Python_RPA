{
 "cells": [
  {
   "cell_type": "code",
   "execution_count": 3,
   "metadata": {},
   "outputs": [
    {
     "ename": "AttributeError",
     "evalue": "module 'selenium.webdriver.chrome.webdriver' has no attribute 'Chrome'",
     "output_type": "error",
     "traceback": [
      "\u001b[1;31m---------------------------------------------------------------------------\u001b[0m",
      "\u001b[1;31mAttributeError\u001b[0m                            Traceback (most recent call last)",
      "\u001b[1;32mh:\\Meu Drive\\Projetos\\Python\\RTA_Ceia_Oficiais.ipynb Célula 1\u001b[0m line \u001b[0;36m7\n\u001b[0;32m      <a href='vscode-notebook-cell:/h%3A/Meu%20Drive/Projetos/Python/RTA_Ceia_Oficiais.ipynb#W0sZmlsZQ%3D%3D?line=3'>4</a>\u001b[0m \u001b[39mfrom\u001b[39;00m \u001b[39mselenium\u001b[39;00m\u001b[39m.\u001b[39;00m\u001b[39mwebdriver\u001b[39;00m\u001b[39m.\u001b[39;00m\u001b[39msupport\u001b[39;00m\u001b[39m.\u001b[39;00m\u001b[39mui\u001b[39;00m \u001b[39mimport\u001b[39;00m Select\n\u001b[0;32m      <a href='vscode-notebook-cell:/h%3A/Meu%20Drive/Projetos/Python/RTA_Ceia_Oficiais.ipynb#W0sZmlsZQ%3D%3D?line=4'>5</a>\u001b[0m \u001b[39mimport\u001b[39;00m \u001b[39mtime\u001b[39;00m\n\u001b[1;32m----> <a href='vscode-notebook-cell:/h%3A/Meu%20Drive/Projetos/Python/RTA_Ceia_Oficiais.ipynb#W0sZmlsZQ%3D%3D?line=6'>7</a>\u001b[0m navegador \u001b[39m=\u001b[39m webdriver\u001b[39m.\u001b[39mChrome()\n\u001b[0;32m      <a href='vscode-notebook-cell:/h%3A/Meu%20Drive/Projetos/Python/RTA_Ceia_Oficiais.ipynb#W0sZmlsZQ%3D%3D?line=7'>8</a>\u001b[0m navegador\u001b[39m.\u001b[39mget(\u001b[39m\"\u001b[39m\u001b[39mhttps://docs.google.com/forms/d/e/1FAIpQLSfaZJPWWiQ84NqM6Adw1Bvb-wUzquCs6jmAaBs90YMtycUNPA/viewform\u001b[39m\u001b[39m\"\u001b[39m)\n\u001b[0;32m     <a href='vscode-notebook-cell:/h%3A/Meu%20Drive/Projetos/Python/RTA_Ceia_Oficiais.ipynb#W0sZmlsZQ%3D%3D?line=9'>10</a>\u001b[0m \u001b[39m# Preencher Nome Completo\u001b[39;00m\n\u001b[0;32m     <a href='vscode-notebook-cell:/h%3A/Meu%20Drive/Projetos/Python/RTA_Ceia_Oficiais.ipynb#W0sZmlsZQ%3D%3D?line=10'>11</a>\u001b[0m \u001b[39m#Inspecionar campo do formulario, cliecar com o botão direito em copiar e copiar o XPath\u001b[39;00m\n",
      "\u001b[1;31mAttributeError\u001b[0m: module 'selenium.webdriver.chrome.webdriver' has no attribute 'Chrome'"
     ]
    }
   ],
   "source": [
    "from selenium.webdriver.chrome import webdriver\n",
    "from selenium.webdriver.common.by import By\n",
    "from selenium.webdriver.chrome.service import Service\n",
    "from selenium.webdriver.support.ui import Select\n",
    "import time\n",
    "\n",
    "navegador = webdriver.Chrome()\n",
    "navegador.get(\"https://docs.google.com/forms/d/e/1FAIpQLSfaZJPWWiQ84NqM6Adw1Bvb-wUzquCs6jmAaBs90YMtycUNPA/viewform\")\n",
    "\n",
    "# Preencher Nome Completo\n",
    "#Inspecionar campo do formulario, cliecar com o botão direito em copiar e copiar o XPath\n",
    "\n",
    "navegador.find_element(\"xpath\",\n",
    "                    '//*[@id=\"mG61Hd\"]/div[2]/div/div[2]/div[1]/div/div/div[2]/div/div[1]/div/div[1]/input').send_keys('Thiago Andre Maia de Araujo')\n",
    "\n",
    "\n",
    "#Preencher celular\n",
    "navegador.find_element(\"xpath\",\n",
    "                    '//*[@id=\"mG61Hd\"]/div[2]/div/div[2]/div[2]/div/div/div[2]/div/div[1]/div/div[1]/input').send_keys('11964630439')\n",
    "def foo(opt=\"Presbitero(a)\", delay=20):\n",
    "    #Selecionar Unção\n",
    "    #elements = WebDriverWait(navegador, 30).until(EC.visibility_of_all_elements_located((By.CLASS_NAME, \"MocG8c HZ3kWc mhLiyf LMgvRb DEh1R\")))\n",
    "    navegador.find_elements(By.CLASS, value=\"OA0qNb ncFHed QXL7Te\").click()\n",
    "\n",
    "    options = navegador.find_elements(By.CLASS, value=\"vRMGwf oJeWuf\")\n",
    "\n",
    "    time.sleep(3)\n",
    "    \n",
    "    print(options)\n",
    "    \n",
    "    contents = options.find_elements_by_tag_name('span')\n",
    "    [i.click() for i in contents if i.text == opt]\n",
    "\n",
    "    foo()\n",
    "\n",
    "#Selecionar Sede Estadual\n",
    "navegador.find_element(\"xpath\",\n",
    "                    '//*[@id=\"mG61Hd\"]/div[2]/div/div[2]/div[4]/div/div/div[2]/div/div[1]/div[1]/div[12]/span')\n",
    "#Selecionar Igreja\n",
    "navegador.find_element(\"xpath\",\n",
    "                    '//*[@id=\"mG61Hd\"]/div[2]/div/div[2]/div[5]/div/div/div[2]/div/div[1]/div[1]/div[140]')\n",
    "#Enviar \n"
   ]
  }
 ],
 "metadata": {
  "kernelspec": {
   "display_name": "base",
   "language": "python",
   "name": "python3"
  },
  "language_info": {
   "codemirror_mode": {
    "name": "ipython",
    "version": 3
   },
   "file_extension": ".py",
   "mimetype": "text/x-python",
   "name": "python",
   "nbconvert_exporter": "python",
   "pygments_lexer": "ipython3",
   "version": "3.11.5"
  }
 },
 "nbformat": 4,
 "nbformat_minor": 2
}
